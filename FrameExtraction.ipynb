{
  "nbformat": 4,
  "nbformat_minor": 0,
  "metadata": {
    "colab": {
      "provenance": [],
      "authorship_tag": "ABX9TyOYp5H9CRukdZ3Ovykp3BDU",
      "include_colab_link": true
    },
    "kernelspec": {
      "name": "python3",
      "display_name": "Python 3"
    },
    "language_info": {
      "name": "python"
    }
  },
  "cells": [
    {
      "cell_type": "markdown",
      "metadata": {
        "id": "view-in-github",
        "colab_type": "text"
      },
      "source": [
        "<a href=\"https://colab.research.google.com/github/Nouraalm1/Matrix-Group/blob/main/FrameExtraction.ipynb\" target=\"_parent\"><img src=\"https://colab.research.google.com/assets/colab-badge.svg\" alt=\"Open In Colab\"/></a>"
      ]
    },
    {
      "cell_type": "code",
      "execution_count": null,
      "metadata": {
        "colab": {
          "base_uri": "https://localhost:8080/"
        },
        "id": "Wgjt0Zys-wrE",
        "outputId": "bb07f744-e41c-47c0-aafa-90fe46cda329"
      },
      "outputs": [
        {
          "output_type": "stream",
          "name": "stdout",
          "text": [
            "Number of frames extracted from finger_wiggling.mp4: 5\n"
          ]
        }
      ],
      "source": [
        "import cv2\n",
        "import os\n",
        "from pathlib import Path\n",
        "\n",
        "def extract_frames_within_time(video_path, frame_dir, start_time, end_time, frame_rate=40, resize_width=None, resize_height=None):\n",
        "    cap = cv2.VideoCapture(str(video_path))\n",
        "    count = 0\n",
        "    saved_count = 0\n",
        "\n",
        "    start_frame = int(start_time * frame_rate)\n",
        "    end_frame = int(end_time * frame_rate)\n",
        "\n",
        "    # Extract video name without extension\n",
        "    video_name = Path(video_path).stem\n",
        "    video_folder = frame_dir / video_name\n",
        "    os.makedirs(video_folder, exist_ok=True)\n",
        "\n",
        "    while True:\n",
        "        ret, frame = cap.read()\n",
        "\n",
        "        if not ret or count > end_frame:\n",
        "            break\n",
        "\n",
        "        if resize_width and resize_height:\n",
        "           frame = cv2.resize(frame, (resize_width, resize_height))\n",
        "\n",
        "        if count >= start_frame and saved_count < 5:\n",
        "            frame_filename = f\"frame_{saved_count}.jpg\"\n",
        "            frame_path = video_folder / frame_filename\n",
        "            cv2.imwrite(str(frame_path), frame)\n",
        "            saved_count += 1\n",
        "\n",
        "        count += 1\n",
        "\n",
        "        if count > end_frame or saved_count == 5:\n",
        "            break\n",
        "\n",
        "    cap.release()\n",
        "    return saved_count\n",
        "videos = [\n",
        "     {\"path\": \"videos/V_ArmFlapping_02.mp4\", \"start_time\": 20.5, \"end_time\":21},#done\n",
        "     {\"path\": \"videos/V_ArmFlapping_14.mp4\", \"start_time\": 4 , \"end_time\": 6 }, #done\n",
        "     {\"path\": \"videos/V_ArmFlapping_15.mp4\", \"start_time\":29, \"end_time\": 30},# done\n",
        "     {\"path\": \"videos/V_ArmFlapping_3.mp4\", \"start_time\":0, \"end_time\": 26}, #dosn't work\n",
        "     {\"path\": \"videos/V_ArmFlapping_4.mp4\", \"start_time\":7, \"end_time\": 10}, #dosen't work\n",
        "     {\"path\": \"videos/V_FingerWiggling_05.mp4\", \"start_time\":7, \"end_time\": 29},#Done\n",
        "     {\"path\": \"videos/V_ArmFlapping_8.mp4\", \"start_time\":18, \"end_time\": 20},#dosen't work\n",
        "     {\"path\": \"videos/V_FingerWiggling_09.mp4\", \"start_time\":14, \"end_time\": 20}, #done\n",
        "     {\"path\": \"videos/V_ArmFlapping_10.mp4\", \"start_time\":20, \"end_time\": 20}, #done\n",
        "     {\"path\": \"videos/V_ArmFlapping_12.mp4\", \"start_time\":4, \"end_time\": 6},\n",
        "     {\"path\": \"videos/V_ArmFlapping_13.mp4\", \"start_time\": 50, \"end_time\": 54},#done\n",
        "     {\"path\": \"videos/V_ArmFlapping_16.mp4\", \"start_time\":42, \"end_time\": 43},#done\n",
        "     {\"path\": \"videos/V_ArmFlapping_18.mp4\", \"start_time\":24, \"end_time\": 26}, #done\n",
        "     {\"path\": \"videos/V_ArmFlapping_19.mp4\", \"start_time\":144, \"end_time\": 160}, #done\n",
        "     {\"path\": \"videos/V_ArmFlapping_20.mp4\", \"start_time\": 66.7 , \"end_time\":80},#done\n",
        "     {\"path\": \"videos/V_ArmFlapping_21.mp4\", \"start_time\":0, \"end_time\": 4}, #Done\n",
        "     {\"path\": \"videos/V_ArmFlapping_22.mp4\", \"start_time\":40, \"end_time\": 49},#Done\n",
        "     {\"path\": \"videos/V_ArmFlapping_24.mp4\", \"start_time\":11, \"end_time\": 15},#done\n",
        "     {\"path\": \"videos/V_ArmFlapping_25.mp4\", \"start_time\":6, \"end_time\": 8},#too Dark!\n",
        "     {\"path\": \"videos/V_ArmFlapping_26.mp4\", \"start_time\":14, \"end_time\": 18}, #done\n",
        "     {\"path\": \"videos/V_ArmFlapping_27.mp4\", \"start_time\":0, \"end_time\": 20},#done\n",
        "     {\"path\": \"videos/V_ArmFlapping_28.mp4\", \"start_time\":2, \"end_time\": 6},#done\n",
        "     {\"path\": \"videos/V_ArmFlapping_29.mp4\", \"start_time\":3, \"end_time\": 8}, #done\n",
        "     {\"path\": \"videos/V_ArmFlapping_30.mp4\", \"start_time\":0, \"end_time\": 8}, #done\n",
        "     {\"path\": \"videos/V_ArmFlapping_31.mp4\", \"start_time\":19, \"end_time\": 24},#done\n",
        "     {\"path\": \"videos/V_ArmFlapping_32.mp4\", \"start_time\":6, \"end_time\": 8},#done\n",
        "     {\"path\": \"videos/V_ArmFlapping_33.mp4\", \"start_time\":7, \"end_time\": 25},#done\n",
        "     {\"path\": \"videos/V_ArmFlapping_34.mp4\", \"start_time\":43, \"end_time\": 44},#done\n",
        "     {\"path\": \"videos/V_FingerWiggling_1.mp4\", \"start_time\":15, \"end_time\":20 }, #done\n",
        "     {\"path\": \"videos/V_FingerWiggling.mp4\", \"start_time\":22, \"end_time\": 25}  , #done\n",
        "     {\"path\": \"videos/finger_wiggling.mp4\", \"start_time\":12, \"end_time\": 13},#done\n",
        "     {\"path\": \"videos/finger_wiggling.mp4\", \"start_time\":22, \"end_time\": 30},#done\n",
        "     {\"path\": \"videos/Finger_flip.mp4\", \"start_time\":109, \"end_time\": 115},#done\n",
        "\n",
        "\n",
        "\n",
        "\n",
        "]\n",
        "\n",
        "frame_dir = Path(\"output_folder\")\n",
        "os.makedirs(frame_dir, exist_ok=True)\n",
        "\n",
        "for video in videos:\n",
        "    video_path = Path(video[\"path\"])\n",
        "    num_extracted_frames = extract_frames_within_time(\n",
        "        video_path, frame_dir, video[\"start_time\"], video[\"end_time\"], resize_width=224, resize_height=224\n",
        "    )\n",
        "    print(f\"Number of frames extracted from {video_path.name}: {num_extracted_frames}\")"
      ]
    },
    {
      "cell_type": "code",
      "source": [],
      "metadata": {
        "id": "36OtPIqjpvnQ"
      },
      "execution_count": null,
      "outputs": []
    },
    {
      "cell_type": "code",
      "source": [
        "import shutil\n",
        "shutil.make_archive('output_folder', 'zip', 'output_folder')"
      ],
      "metadata": {
        "colab": {
          "base_uri": "https://localhost:8080/",
          "height": 35
        },
        "id": "p2sxBMqghTPE",
        "outputId": "eaf570f9-7e2d-4a7b-d2b2-e19e347080e4"
      },
      "execution_count": null,
      "outputs": [
        {
          "output_type": "execute_result",
          "data": {
            "text/plain": [
              "'/content/output_folder.zip'"
            ],
            "application/vnd.google.colaboratory.intrinsic+json": {
              "type": "string"
            }
          },
          "metadata": {},
          "execution_count": 40
        }
      ]
    }
  ]
}