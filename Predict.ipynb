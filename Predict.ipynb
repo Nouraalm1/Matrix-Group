{
  "cells": [
    {
      "cell_type": "markdown",
      "metadata": {
        "id": "view-in-github",
        "colab_type": "text"
      },
      "source": [
        "<a href=\"https://colab.research.google.com/github/Nouraalm1/Matrix-Group/blob/main/Predict.ipynb\" target=\"_parent\"><img src=\"https://colab.research.google.com/assets/colab-badge.svg\" alt=\"Open In Colab\"/></a>"
      ]
    },
    {
      "cell_type": "code",
      "execution_count": null,
      "metadata": {
        "id": "FQW3YnyHig5a"
      },
      "outputs": [],
      "source": [
        "from keras.models import load_model\n",
        "import cv2\n",
        "model = load_model('ASD.h5')\n",
        "# Defining the dimensions of the images\n",
        "Image_Height = 224\n",
        "Image_Width = 224"
      ]
    },
    {
      "cell_type": "code",
      "execution_count": null,
      "metadata": {
        "id": "jd2-uQ57ig5d"
      },
      "outputs": [],
      "source": [
        "# Python Imaging Library\n",
        "# pip install Pillow\n",
        "from PIL import Image\n",
        "import numpy as np\n",
        "def load_and_preprocess_image(image_path, target_size):\n",
        "    img = Image.open(image_path)\n",
        "    img = img.convert('RGB') if img.mode != 'RGB' else img\n",
        "    img = img.resize(target_size)\n",
        "    img = np.array(img) / 255.0\n",
        "    return img"
      ]
    },
    {
      "cell_type": "code",
      "execution_count": null,
      "metadata": {
        "id": "OEqtIZ88ig5d"
      },
      "outputs": [],
      "source": [
        "def detect_ArmsMoving(frame):\n",
        "    # Save the frame when hand movement is detected\n",
        "    image_path = \"test.png\"\n",
        "    cv2.imwrite(image_path, frame)\n",
        "\n",
        "    image= load_and_preprocess_image(image_path, (Image_Height, Image_Width))\n",
        "\n",
        "    image_array = np.expand_dims(image, axis=0)\n",
        "\n",
        "    predictions = model.predict(image_array)\n",
        "\n",
        "    predicted_class = np.argmax(predictions[0])\n",
        "    if predicted_class==0:\n",
        "        return True\n",
        "    else:\n",
        "        return False"
      ]
    },
    {
      "cell_type": "code",
      "execution_count": null,
      "metadata": {
        "id": "bnwfRWrfig5e"
      },
      "outputs": [],
      "source": [
        "def detect_FingersFlipping(frame):\n",
        "    # Save the frame when hand movement is detected\n",
        "    image_path = \"test.png\"\n",
        "    cv2.imwrite(image_path, frame)\n",
        "\n",
        "    image= load_and_preprocess_image(image_path, (Image_Height, Image_Width))\n",
        "\n",
        "    image_array = np.expand_dims(image, axis=0)\n",
        "\n",
        "    predictions = model.predict(image_array)\n",
        "\n",
        "    predicted_class = np.argmax(predictions[0])\n",
        "    if predicted_class==1:\n",
        "        return True\n",
        "    else:\n",
        "        return False"
      ]
    },
    {
      "cell_type": "code",
      "execution_count": null,
      "metadata": {
        "id": "QwfDPibkig5e",
        "outputId": "7b5659e4-ec33-4c50-9816-67404951b6cc"
      },
      "outputs": [
        {
          "name": "stdout",
          "output_type": "stream",
          "text": [
            "Error opening video file 1.mp4\n",
            "Error opening video file 2.mp4\n",
            "Total ArmsMoving detected in video 2 : 0\n",
            "Total FingersFlipping detected in video 2 : 0\n"
          ]
        }
      ],
      "source": [
        "# Specify the range of video files you want to process\n",
        "start_video = 1\n",
        "end_video = 2\n",
        "\n",
        "# Initialize total hand movements count\n",
        "total_ArmsMoving = 0\n",
        "total_FingersFlipping = 0\n",
        "\n",
        "# Loop through the videos and count hand movements\n",
        "for video_index in range(start_video, end_video + 1):\n",
        "    video_path = f\"{video_index}.mp4\"\n",
        "    cap = cv2.VideoCapture(video_path)\n",
        "\n",
        "    if not cap.isOpened():\n",
        "        print(f\"Error opening video file {video_path}\")\n",
        "        continue\n",
        "\n",
        "    frame_count = int(cap.get(cv2.CAP_PROP_FRAME_COUNT))\n",
        "\n",
        "    frames_step = 100\n",
        "\n",
        "    # Process each frame in the video\n",
        "    for frame_index in range(0, frame_count, frames_step):\n",
        "        # Set the current frame position\n",
        "        cap.set(cv2.CAP_PROP_POS_FRAMES, frame_index)\n",
        "\n",
        "        # Read the frame at the specified position\n",
        "        ret, frame = cap.read()\n",
        "        if not ret:\n",
        "            break\n",
        "\n",
        "        # Now you have access to the current frame_index\n",
        "        print(f\"Processing frame {frame_index} in video {video_index}\")\n",
        "\n",
        "        # Detect hand movement in the frame\n",
        "        ArmsMoving = detect_ArmsMoving(frame)\n",
        "\n",
        "        if ArmsMoving:\n",
        "            total_ArmsMoving += 1\n",
        "\n",
        "        FingersFlipping = detect_FingersFlipping(frame)\n",
        "\n",
        "        if FingersFlipping:\n",
        "            total_FingersFlipping += 1\n",
        "\n",
        "        # Update tqdm progress bar\n",
        "        # tqdm_bar.update(1)\n",
        "\n",
        "    # tqdm_bar.close()\n",
        "    cap.release()\n",
        "\n",
        "print(f\"Total ArmsMoving detected in video {video_index} : {total_ArmsMoving}\")\n",
        "print(f\"Total FingersFlipping detected in video {video_index} : {total_FingersFlipping}\")\n"
      ]
    },
    {
      "cell_type": "markdown",
      "metadata": {
        "id": "vJHFyaatig5f"
      },
      "source": []
    }
  ],
  "metadata": {
    "colab": {
      "provenance": [],
      "include_colab_link": true
    },
    "kernelspec": {
      "display_name": "Python 3",
      "name": "python3"
    },
    "language_info": {
      "codemirror_mode": {
        "name": "ipython",
        "version": 3
      },
      "file_extension": ".py",
      "mimetype": "text/x-python",
      "name": "python",
      "nbconvert_exporter": "python",
      "pygments_lexer": "ipython3",
      "version": "3.11.3"
    }
  },
  "nbformat": 4,
  "nbformat_minor": 0
}